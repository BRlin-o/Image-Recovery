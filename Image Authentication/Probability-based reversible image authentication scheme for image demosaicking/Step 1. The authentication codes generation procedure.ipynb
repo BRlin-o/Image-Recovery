{
 "cells": [
  {
   "cell_type": "code",
   "execution_count": 1,
   "metadata": {},
   "outputs": [],
   "source": [
    "import random\n",
    "import numpy as np"
   ]
  },
  {
   "cell_type": "code",
   "execution_count": 18,
   "metadata": {},
   "outputs": [],
   "source": [
    "H, W = 512, 512\n",
    "seed = 10\n",
    "t = 4\n",
    "\n",
    "def generate_ac(H, W, seed, t):\n",
    "    random.seed(seed)\n",
    "    ac = np.zeros((H, W), dtype=np.uint8)\n",
    "    for i in range(H):\n",
    "        for j in range(W):\n",
    "            ac[i][j] = random.randint(0, 2**t-1)\n",
    "    return ac"
   ]
  },
  {
   "cell_type": "code",
   "execution_count": 19,
   "metadata": {},
   "outputs": [
    {
     "data": {
      "text/plain": [
       "array([[ 1, 13, 15, ..., 14,  5,  2],\n",
       "       [12,  2,  0, ...,  0,  6,  5],\n",
       "       [ 6,  2,  1, ...,  7, 15,  6],\n",
       "       ...,\n",
       "       [ 9,  2, 14, ...,  3, 15, 15],\n",
       "       [ 2,  2,  5, ..., 11, 13, 12],\n",
       "       [ 0, 11, 14, ..., 12,  3,  5]], dtype=uint8)"
      ]
     },
     "execution_count": 19,
     "metadata": {},
     "output_type": "execute_result"
    }
   ],
   "source": [
    "test = generate_ac(H, W, seed, t)\n",
    "test"
   ]
  },
  {
   "cell_type": "code",
   "execution_count": null,
   "metadata": {},
   "outputs": [],
   "source": []
  }
 ],
 "metadata": {
  "interpreter": {
   "hash": "87ce4afee8c827dcaf9aca749d6ffee13527c2ea5a3881bef842dcbcb99f1987"
  },
  "kernelspec": {
   "display_name": "Python 3.7.11 ('tf_2.5-jupyter')",
   "language": "python",
   "name": "python3"
  },
  "language_info": {
   "codemirror_mode": {
    "name": "ipython",
    "version": 3
   },
   "file_extension": ".py",
   "mimetype": "text/x-python",
   "name": "python",
   "nbconvert_exporter": "python",
   "pygments_lexer": "ipython3",
   "version": "3.7.11"
  },
  "orig_nbformat": 4
 },
 "nbformat": 4,
 "nbformat_minor": 2
}
